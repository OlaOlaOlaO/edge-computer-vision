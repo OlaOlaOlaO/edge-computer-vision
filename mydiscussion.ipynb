{
  "nbformat": 4,
  "nbformat_minor": 0,
  "metadata": {
    "colab": {
      "name": "mydiscussion.ipynb",
      "provenance": [],
      "authorship_tag": "ABX9TyPMg3JJRC7n9aER5+J10Ru8",
      "include_colab_link": true
    },
    "kernelspec": {
      "name": "python3",
      "display_name": "Python 3"
    }
  },
  "cells": [
    {
      "cell_type": "markdown",
      "metadata": {
        "id": "view-in-github",
        "colab_type": "text"
      },
      "source": [
        "<a href=\"https://colab.research.google.com/github/noahgift/edge-computer-vision/blob/master/mydiscussion.ipynb\" target=\"_parent\"><img src=\"https://colab.research.google.com/assets/colab-badge.svg\" alt=\"Open In Colab\"/></a>"
      ]
    },
    {
      "cell_type": "markdown",
      "metadata": {
        "id": "bozZzuLkHx_6",
        "colab_type": "text"
      },
      "source": [
        "## This is my answer"
      ]
    },
    {
      "cell_type": "code",
      "metadata": {
        "id": "-L7Lhn5sHvRe",
        "colab_type": "code",
        "colab": {}
      },
      "source": [
        "def hello(name):\n",
        "    return f\"Your name is: {name}\""
      ],
      "execution_count": 1,
      "outputs": []
    },
    {
      "cell_type": "code",
      "metadata": {
        "id": "JkflUApMH5FQ",
        "colab_type": "code",
        "colab": {
          "base_uri": "https://localhost:8080/",
          "height": 35
        },
        "outputId": "3184ed8e-dda4-4c1a-d93c-5e996537b528"
      },
      "source": [
        "hello(\"John\")"
      ],
      "execution_count": 2,
      "outputs": [
        {
          "output_type": "execute_result",
          "data": {
            "application/vnd.google.colaboratory.intrinsic": {
              "type": "string"
            },
            "text/plain": [
              "'Your name is: John'"
            ]
          },
          "metadata": {
            "tags": []
          },
          "execution_count": 2
        }
      ]
    },
    {
      "cell_type": "code",
      "metadata": {
        "id": "zx6pp7xBH6wd",
        "colab_type": "code",
        "colab": {}
      },
      "source": [
        ""
      ],
      "execution_count": null,
      "outputs": []
    }
  ]
}