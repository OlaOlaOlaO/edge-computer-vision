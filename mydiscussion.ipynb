{
  "nbformat": 4,
  "nbformat_minor": 0,
  "metadata": {
    "colab": {
      "name": "mydiscussion.ipynb",
      "provenance": [],
      "authorship_tag": "ABX9TyM8EpAmyCpjx/2yMT38Hfi/",
      "include_colab_link": true
    },
    "kernelspec": {
      "name": "python3",
      "display_name": "Python 3"
    }
  },
  "cells": [
    {
      "cell_type": "markdown",
      "metadata": {
        "id": "view-in-github",
        "colab_type": "text"
      },
      "source": [
        "<a href=\"https://colab.research.google.com/github/noahgift/edge-computer-vision/blob/master/mydiscussion.ipynb\" target=\"_parent\"><img src=\"https://colab.research.google.com/assets/colab-badge.svg\" alt=\"Open In Colab\"/></a>"
      ]
    },
    {
      "cell_type": "markdown",
      "metadata": {
        "id": "bozZzuLkHx_6",
        "colab_type": "text"
      },
      "source": [
        "## This is my answer"
      ]
    },
    {
      "cell_type": "code",
      "metadata": {
        "id": "-L7Lhn5sHvRe",
        "colab_type": "code",
        "colab": {}
      },
      "source": [
        "def hello(name):\n",
        "    return f\"Your name is: {name}\""
      ],
      "execution_count": 1,
      "outputs": []
    },
    {
      "cell_type": "code",
      "metadata": {
        "id": "JkflUApMH5FQ",
        "colab_type": "code",
        "colab": {
          "base_uri": "https://localhost:8080/",
          "height": 35
        },
        "outputId": "3184ed8e-dda4-4c1a-d93c-5e996537b528"
      },
      "source": [
        "hello(\"John\")"
      ],
      "execution_count": 2,
      "outputs": [
        {
          "output_type": "execute_result",
          "data": {
            "application/vnd.google.colaboratory.intrinsic": {
              "type": "string"
            },
            "text/plain": [
              "'Your name is: John'"
            ]
          },
          "metadata": {
            "tags": []
          },
          "execution_count": 2
        }
      ]
    },
    {
      "cell_type": "code",
      "metadata": {
        "id": "zx6pp7xBH6wd",
        "colab_type": "code",
        "colab": {}
      },
      "source": [
        ""
      ],
      "execution_count": null,
      "outputs": []
    },
    {
      "cell_type": "markdown",
      "metadata": {
        "id": "09EE-PdLIfm3",
        "colab_type": "text"
      },
      "source": [
        "## These are images\n",
        "\n"
      ]
    },
    {
      "cell_type": "markdown",
      "metadata": {
        "id": "7XV35qldIiDZ",
        "colab_type": "text"
      },
      "source": [
        "![Screen Shot 2020-07-18 at 9 33 59 AM](https://user-images.githubusercontent.com/58792/87853644-d2e67b00-c8d9-11ea-8742-f08ec35f0f6f.png)\n",
        "![Circuscyaneus](https://user-images.githubusercontent.com/58792/87853646-d5e16b80-c8d9-11ea-9ab5-5478b3a1af71.jpeg)"
      ]
    },
    {
      "cell_type": "code",
      "metadata": {
        "id": "yVkb8B92Ikvq",
        "colab_type": "code",
        "colab": {}
      },
      "source": [
        ""
      ],
      "execution_count": null,
      "outputs": []
    }
  ]
}